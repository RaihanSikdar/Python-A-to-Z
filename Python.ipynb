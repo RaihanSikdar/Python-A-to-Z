{
 "cells": [
  {
   "cell_type": "code",
   "execution_count": 2,
   "metadata": {},
   "outputs": [
    {
     "name": "stdout",
     "output_type": "stream",
     "text": [
      "Hello, World!\n"
     ]
    }
   ],
   "source": [
    "print(\"Hello, World!\")"
   ]
  },
  {
   "cell_type": "markdown",
   "metadata": {},
   "source": [
    "# Python Comments"
   ]
  },
  {
   "cell_type": "code",
   "execution_count": 4,
   "metadata": {},
   "outputs": [
    {
     "name": "stdout",
     "output_type": "stream",
     "text": [
      "Hello, World!\n"
     ]
    }
   ],
   "source": [
    "#This is a comment\n",
    "print(\"Hello, World!\")"
   ]
  },
  {
   "cell_type": "code",
   "execution_count": 5,
   "metadata": {},
   "outputs": [
    {
     "name": "stdout",
     "output_type": "stream",
     "text": [
      "Hello, World!\n"
     ]
    }
   ],
   "source": [
    "print(\"Hello, World!\") #This is a comment"
   ]
  },
  {
   "cell_type": "markdown",
   "metadata": {},
   "source": [
    "Multi Line Comments"
   ]
  },
  {
   "cell_type": "code",
   "execution_count": 14,
   "metadata": {},
   "outputs": [
    {
     "name": "stdout",
     "output_type": "stream",
     "text": [
      "Hello, World!\n"
     ]
    }
   ],
   "source": [
    "\"\"\"\n",
    "This is a comment\n",
    "written in\n",
    "more than just one line\n",
    "\"\"\"\n",
    "print(\"Hello, World!\")"
   ]
  },
  {
   "cell_type": "markdown",
   "metadata": {},
   "source": [
    "# Python Variables\n"
   ]
  },
  {
   "cell_type": "code",
   "execution_count": 7,
   "metadata": {},
   "outputs": [
    {
     "name": "stdout",
     "output_type": "stream",
     "text": [
      "10\n",
      "Raihan\n",
      "50.5\n"
     ]
    }
   ],
   "source": [
    "x=10\n",
    "y=\"Raihan\"\n",
    "z =50.5\n",
    "print(x)\n",
    "print(y)\n",
    "print(z)"
   ]
  },
  {
   "cell_type": "code",
   "execution_count": 8,
   "metadata": {},
   "outputs": [
    {
     "name": "stdout",
     "output_type": "stream",
     "text": [
      "10 Raihan 50.5\n"
     ]
    }
   ],
   "source": [
    "x=10\n",
    "y=\"Raihan\"\n",
    "z =50.5\n",
    "\n",
    "print(x,y,z)"
   ]
  },
  {
   "cell_type": "code",
   "execution_count": 10,
   "metadata": {},
   "outputs": [
    {
     "name": "stdout",
     "output_type": "stream",
     "text": [
      "10\n",
      "10\n",
      "10.0\n",
      "(10+0j)\n"
     ]
    }
   ],
   "source": [
    "#Casting\n",
    "x = str(10)      # x will be string '10'\n",
    "y = int(10)      # y will be integer 10\n",
    "z = float(10)    # z will be decimal 10.0\n",
    "xx = complex(10) # xx will be 10+0j\n",
    "\n",
    "print(x)\n",
    "print(y)\n",
    "print(z)\n",
    "print(xx)\n"
   ]
  },
  {
   "cell_type": "code",
   "execution_count": 11,
   "metadata": {},
   "outputs": [
    {
     "name": "stdout",
     "output_type": "stream",
     "text": [
      "Raihan\n",
      "Raihan\n"
     ]
    }
   ],
   "source": [
    "x = \"Raihan\"\n",
    "print(x)\n",
    "#double quotes are the same as single quotes:\n",
    "x = 'Raihan'\n",
    "print(x)"
   ]
  },
  {
   "cell_type": "code",
   "execution_count": 13,
   "metadata": {},
   "outputs": [
    {
     "name": "stdout",
     "output_type": "stream",
     "text": [
      "10\n",
      "Raihan\n"
     ]
    }
   ],
   "source": [
    "#Case-Sensitive\n",
    "\n",
    "a = 10\n",
    "A = \"Raihan\"\n",
    "print(a)\n",
    "print(A)"
   ]
  },
  {
   "cell_type": "markdown",
   "metadata": {},
   "source": [
    " Valid Variable Names"
   ]
  },
  {
   "cell_type": "code",
   "execution_count": 15,
   "metadata": {},
   "outputs": [
    {
     "name": "stdout",
     "output_type": "stream",
     "text": [
      "Raihan\n",
      "Raihan\n",
      "Raihan\n",
      "Raihan\n",
      "Raihan\n",
      "Raihan\n"
     ]
    }
   ],
   "source": [
    "myname = \"Raihan\"\n",
    "my_name = \"Raihan\"\n",
    "_my_name = \"Raihan\"\n",
    "myName = \"Raihan\"\n",
    "MYNAME = \"Raihan\"\n",
    "Myname2 = \"Raihan\"\n",
    "\n",
    "\n",
    "print(myname)\n",
    "print(my_name)\n",
    "print(_my_name)\n",
    "print(myName)\n",
    "print(MYNAME)\n",
    "print(Myname2)"
   ]
  },
  {
   "cell_type": "markdown",
   "metadata": {},
   "source": [
    " Invalid Variable Names"
   ]
  },
  {
   "cell_type": "code",
   "execution_count": 16,
   "metadata": {},
   "outputs": [
    {
     "data": {
      "text/plain": [
       "'\\n2myname = \"Raihan\"\\nmy-name = \"Raihan\"\\nmy name = \"Raihan\"\\n\\n'"
      ]
     },
     "execution_count": 16,
     "metadata": {},
     "output_type": "execute_result"
    }
   ],
   "source": [
    "\"\"\"\n",
    "2myname = \"Raihan\"\n",
    "my-name = \"Raihan\"\n",
    "my name = \"Raihan\"\n",
    "\n",
    "\"\"\""
   ]
  },
  {
   "cell_type": "markdown",
   "metadata": {},
   "source": [
    "# Multi Words Variable Names"
   ]
  },
  {
   "cell_type": "markdown",
   "metadata": {},
   "source": [
    "Camel Case\n"
   ]
  },
  {
   "cell_type": "code",
   "execution_count": 22,
   "metadata": {},
   "outputs": [
    {
     "name": "stdout",
     "output_type": "stream",
     "text": [
      "Raihan\n"
     ]
    }
   ],
   "source": [
    "# Each word, except the first, starts with a capital letter:\n",
    "\n",
    "myVariableName = \"Raihan\"\n",
    "\n",
    "print(myVariableName)"
   ]
  },
  {
   "cell_type": "markdown",
   "metadata": {},
   "source": [
    "Pascal Case"
   ]
  },
  {
   "cell_type": "code",
   "execution_count": 23,
   "metadata": {},
   "outputs": [
    {
     "name": "stdout",
     "output_type": "stream",
     "text": [
      "Raihan\n"
     ]
    }
   ],
   "source": [
    "# Each word starts with a capital letter:\n",
    "\n",
    "MyVariableName = \"Raihan\"\n",
    "\n",
    "print(MyVariableName)"
   ]
  },
  {
   "cell_type": "markdown",
   "metadata": {},
   "source": [
    "Snake Case"
   ]
  },
  {
   "cell_type": "code",
   "execution_count": 24,
   "metadata": {},
   "outputs": [
    {
     "name": "stdout",
     "output_type": "stream",
     "text": [
      "Raihan\n"
     ]
    }
   ],
   "source": [
    "# Each word is separated by an underscore character:\n",
    "\n",
    "my_variable_name = \"Raihan\"\n",
    "\n",
    "print(my_variable_name)"
   ]
  },
  {
   "cell_type": "code",
   "execution_count": null,
   "metadata": {},
   "outputs": [],
   "source": []
  }
 ],
 "metadata": {
  "interpreter": {
   "hash": "8fac594bfae6525c0c41b4041d2d72effa188cc8ead05f81b1fab2bb098927fb"
  },
  "kernelspec": {
   "display_name": "Python 3.8.8 ('base')",
   "language": "python",
   "name": "python3"
  },
  "language_info": {
   "codemirror_mode": {
    "name": "ipython",
    "version": 3
   },
   "file_extension": ".py",
   "mimetype": "text/x-python",
   "name": "python",
   "nbconvert_exporter": "python",
   "pygments_lexer": "ipython3",
   "version": "3.8.8"
  },
  "orig_nbformat": 4
 },
 "nbformat": 4,
 "nbformat_minor": 2
}
